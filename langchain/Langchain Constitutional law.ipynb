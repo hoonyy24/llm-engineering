{
 "cells": [
  {
   "cell_type": "code",
   "execution_count": null,
   "id": "5b438095",
   "metadata": {},
   "outputs": [],
   "source": [
    "%pip install \\\n",
    "    langchain-core \\\n",
    "    langchain-openai \\\n",
    "    langchain-community \\\n",
    "    langchain-text-splitters \\\n",
    "    langchain-chroma \\\n",
    "    pypdf \\\n",
    "    python-dotenv \\\n",
    "    docx2txt"
   ]
  },
  {
   "cell_type": "code",
   "execution_count": null,
   "id": "6f02a060",
   "metadata": {},
   "outputs": [],
   "source": [
    "import os\n",
    "from langchain import hub\n",
    "from langchain_chroma import Chroma\n",
    "from langchain_openai import ChatOpenAI,OpenAIEmbeddings\n",
    "from langchain_text_splitters import RecursiveCharacterTextSplitter\n",
    "from langchain.chains import RetrievalQA\n",
    "from langchain_community.document_loaders import PyPDFLoader"
   ]
  },
  {
   "cell_type": "code",
   "execution_count": null,
   "id": "b36805f5",
   "metadata": {},
   "outputs": [
    {
     "name": "stderr",
     "output_type": "stream",
     "text": [
      "/home/lee/.local/lib/python3.10/site-packages/langsmith/client.py:241: LangSmithMissingAPIKeyWarning: API key must be provided when using hosted LangSmith API\n",
      "  warnings.warn(\n"
     ]
    },
    {
     "name": "stdout",
     "output_type": "stream",
     "text": [
      "{'query': 'What is the article 1 of constitution of Republic of Korea ', 'result': 'Article 1 of the Constitution of the Republic of Korea states that the Republic of Korea shall be a democratic republic, and the sovereignty of the Republic of Korea shall reside in the people, with all state authority emanating from the people.'}\n"
     ]
    }
   ],
   "source": [
    "os.environ[\"OPENAI_API_KEY\"] = \"\"\n",
    "\n",
    "llm = ChatOpenAI(model='gpt-4o')\n",
    "embedding = OpenAIEmbeddings(model='text-embedding-3-large')\n",
    "\n",
    "loader = PyPDFLoader('CONSTITUTION OF THE REPUBLIC OF KOREA.pdf')\n",
    "documents = loader.load()\n",
    "\n",
    "splitter = RecursiveCharacterTextSplitter(\n",
    "    chunk_size=1200,\n",
    "    chunk_overlap=200\n",
    ")\n",
    "\n",
    "document_list = splitter.split_documents(documents)\n",
    "\n",
    "database = Chroma.from_documents(\n",
    "    embedding = embedding,\n",
    "    documents = document_list,\n",
    "    collection_name = 'chroma-tax',\n",
    "    persist_directory = './chroma'\n",
    ")\n",
    "\n",
    "prompt = hub.pull('rlm/rag-prompt')\n",
    "\n",
    "qa_chain = RetrievalQA.from_chain_type(\n",
    "    llm=llm,\n",
    "    retriever = database.as_retriever(),\n",
    "    chain_type_kwargs={'prompt':prompt}\n",
    ")\n",
    "\n",
    "query = 'What is the article 1 of constitution of Republic of Korea '\n",
    "\n",
    "ai_message = qa_chain.invoke({'query':query})\n",
    "print(ai_message)"
   ]
  }
 ],
 "metadata": {
  "kernelspec": {
   "display_name": "Python 3",
   "language": "python",
   "name": "python3"
  },
  "language_info": {
   "codemirror_mode": {
    "name": "ipython",
    "version": 3
   },
   "file_extension": ".py",
   "mimetype": "text/x-python",
   "name": "python",
   "nbconvert_exporter": "python",
   "pygments_lexer": "ipython3",
   "version": "3.10.12"
  }
 },
 "nbformat": 4,
 "nbformat_minor": 5
}
